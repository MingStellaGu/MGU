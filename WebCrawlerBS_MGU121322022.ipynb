{
 "cells": [
  {
   "cell_type": "code",
   "execution_count": 90,
   "id": "9f14522d",
   "metadata": {
    "ExecuteTime": {
     "end_time": "2022-12-14T02:44:47.033393Z",
     "start_time": "2022-12-14T02:44:47.018277Z"
    }
   },
   "outputs": [],
   "source": [
    "import bs4\n",
    "from urllib.request import urlopen\n",
    "from bs4 import BeautifulSoup as soup"
   ]
  },
  {
   "cell_type": "code",
   "execution_count": 130,
   "id": "596754d7",
   "metadata": {
    "ExecuteTime": {
     "end_time": "2022-12-14T03:07:56.751979Z",
     "start_time": "2022-12-14T03:07:34.379383Z"
    }
   },
   "outputs": [],
   "source": [
    "prodBrandLst = []\n",
    "prodNameLst = []\n",
    "prodShipLst = []\n",
    "prodPriceLst = []\n",
    "\n",
    "for i in range(21):\n",
    "    my_url = 'https://www.newegg.com/LED-TV/SubCategory/ID-798/Page-'+str(i+1)\n",
    "\n",
    "    uClient = urlopen(my_url)\n",
    "    page_html = uClient.read()\n",
    "    uClient.close()\n",
    "\n",
    "    # html parsing\n",
    "    page_soup = soup(page_html, 'html.parser')\n",
    "\n",
    "    #page_soup.findAll('div', {'class':'item-container'})\n",
    "\n",
    "    # grabbing all containers with class name = item-container\n",
    "    containers = page_soup.findAll('div', {'class':'item-container'})\n",
    "    container = containers[1]\n",
    "    for container in containers:\n",
    "        #brand = container.div.div.a.img['title']\n",
    "        title_container = container.findAll('a', {'class':'item-title'})\n",
    "        all_words = title_container[0].text.split()\n",
    "        brand = all_words[0]\n",
    "        product_name = all_words[0]+'-'+all_words[1]+'-'+all_words[2]\n",
    "        ship_container = container.findAll('li', {'class':'price-ship'})\n",
    "        # use strip() to remove blank spaces before and after text\n",
    "        shipping = ship_container[0].text.strip()\n",
    "        \n",
    "        price_container = container.findAll('li', {'class':'price-current'})\n",
    "        price = price_container[0].text.strip()\n",
    "\n",
    "        prodBrandLst.append(brand)\n",
    "        prodNameLst.append(product_name)\n",
    "        prodShipLst.append(shipping)\n",
    "        prodPriceLst.append(price)"
   ]
  },
  {
   "cell_type": "code",
   "execution_count": 131,
   "id": "ce68d68a",
   "metadata": {
    "ExecuteTime": {
     "end_time": "2022-12-14T03:08:01.155305Z",
     "start_time": "2022-12-14T03:08:01.139318Z"
    }
   },
   "outputs": [],
   "source": [
    "import pandas as pd\n",
    "df = pd.DataFrame ({'Brand Type': prodBrandLst, \n",
    "                   'Product Name': prodNameLst, \n",
    "                   'Shipping Method': prodShipLst,\n",
    "                   'Current Price': prodPriceLst})"
   ]
  },
  {
   "cell_type": "code",
   "execution_count": 136,
   "id": "650628da",
   "metadata": {
    "ExecuteTime": {
     "end_time": "2022-12-14T03:11:01.610584Z",
     "start_time": "2022-12-14T03:11:01.587424Z"
    }
   },
   "outputs": [],
   "source": [
    "df.to_csv(\"neweggTVinfo.csv\") "
   ]
  }
 ],
 "metadata": {
  "kernelspec": {
   "display_name": "Python 3",
   "language": "python",
   "name": "python3"
  },
  "language_info": {
   "codemirror_mode": {
    "name": "ipython",
    "version": 3
   },
   "file_extension": ".py",
   "mimetype": "text/x-python",
   "name": "python",
   "nbconvert_exporter": "python",
   "pygments_lexer": "ipython3",
   "version": "3.8.8"
  },
  "varInspector": {
   "cols": {
    "lenName": 16,
    "lenType": 16,
    "lenVar": 40
   },
   "kernels_config": {
    "python": {
     "delete_cmd_postfix": "",
     "delete_cmd_prefix": "del ",
     "library": "var_list.py",
     "varRefreshCmd": "print(var_dic_list())"
    },
    "r": {
     "delete_cmd_postfix": ") ",
     "delete_cmd_prefix": "rm(",
     "library": "var_list.r",
     "varRefreshCmd": "cat(var_dic_list()) "
    }
   },
   "types_to_exclude": [
    "module",
    "function",
    "builtin_function_or_method",
    "instance",
    "_Feature"
   ],
   "window_display": false
  }
 },
 "nbformat": 4,
 "nbformat_minor": 5
}
